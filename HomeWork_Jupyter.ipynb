{
 "cells": [
  {
   "cell_type": "code",
   "execution_count": 1,
   "id": "15a18929",
   "metadata": {},
   "outputs": [],
   "source": [
    "from sympy import *\n",
    "x = Symbol(\"x\")"
   ]
  },
  {
   "cell_type": "markdown",
   "id": "ddfa4803",
   "metadata": {},
   "source": [
    "# наша функция"
   ]
  },
  {
   "cell_type": "code",
   "execution_count": 2,
   "id": "10c10cba",
   "metadata": {},
   "outputs": [
    {
     "data": {
      "text/latex": [
       "$\\displaystyle \\left(\\frac{\\sin{\\left(x \\right)}}{2} + \\frac{\\cos{\\left(x \\right)}}{2}\\right)^{2} \\sin{\\left(x \\right)}$"
      ],
      "text/plain": [
       "(sin(x)/2 + cos(x)/2)**2*sin(x)"
      ]
     },
     "execution_count": 2,
     "metadata": {},
     "output_type": "execute_result"
    }
   ],
   "source": [
    "func = (sin(x)/2 + cos(x)/2) ** 2 * sin(x)\n",
    "func"
   ]
  },
  {
   "cell_type": "markdown",
   "id": "048207d5",
   "metadata": {},
   "source": [
    "# периодичность  функции"
   ]
  },
  {
   "cell_type": "code",
   "execution_count": 3,
   "id": "0606472d",
   "metadata": {},
   "outputs": [
    {
     "data": {
      "text/latex": [
       "$\\displaystyle 2 \\pi$"
      ],
      "text/plain": [
       "2*pi"
      ]
     },
     "execution_count": 3,
     "metadata": {},
     "output_type": "execute_result"
    }
   ],
   "source": [
    "periodicity(func, x)"
   ]
  },
  {
   "cell_type": "markdown",
   "id": "30a17299",
   "metadata": {},
   "source": [
    "# корни функции\n"
   ]
  },
  {
   "cell_type": "code",
   "execution_count": 4,
   "id": "8d0d4929",
   "metadata": {},
   "outputs": [
    {
     "name": "stdout",
     "output_type": "stream",
     "text": [
      "корни функции: [-pi/4, 0, 3*pi/4, pi]\n",
      "корни функции в числовом значении: -0.785398163397448, 0, 2.35619449019234, 3.14159265358979, \n"
     ]
    }
   ],
   "source": [
    "f_root = solve(func, x)\n",
    "f_root.sort()\n",
    "print(f'корни функции: {f_root}')\n",
    "print('корни функции в числовом значении', end = ': ')\n",
    "for i in f_root:    \n",
    "    print(i.evalf(), end = ', ')\n",
    "print()"
   ]
  },
  {
   "cell_type": "code",
   "execution_count": 5,
   "id": "b91445f4",
   "metadata": {},
   "outputs": [
    {
     "data": {
      "text/latex": [
       "$\\displaystyle \\left\\{2 n \\pi\\; \\middle|\\; n \\in \\mathbb{Z}\\right\\} \\cup \\left\\{2 n \\pi + \\pi\\; \\middle|\\; n \\in \\mathbb{Z}\\right\\} \\cup \\left\\{2 n \\pi + \\frac{3 \\pi}{4}\\; \\middle|\\; n \\in \\mathbb{Z}\\right\\} \\cup \\left\\{2 n \\pi + \\frac{7 \\pi}{4}\\; \\middle|\\; n \\in \\mathbb{Z}\\right\\}$"
      ],
      "text/plain": [
       "Union(ImageSet(Lambda(_n, 2*_n*pi + 3*pi/4), Integers), ImageSet(Lambda(_n, 2*_n*pi + 7*pi/4), Integers), ImageSet(Lambda(_n, 2*_n*pi + pi), Integers), ImageSet(Lambda(_n, 2*_n*pi), Integers))"
      ]
     },
     "execution_count": 5,
     "metadata": {},
     "output_type": "execute_result"
    }
   ],
   "source": [
    "solveset(func, x)"
   ]
  },
  {
   "cell_type": "markdown",
   "id": "4ebff825",
   "metadata": {},
   "source": [
    "# Найти интервалы, на которых функция возрастает\n",
    "# Найти интервалы, на которых функция убывает"
   ]
  },
  {
   "cell_type": "markdown",
   "id": "a445d9c9",
   "metadata": {},
   "source": [
    "функция возрастает на интервале, на котором значение ее производной больше нуля \n",
    "и убывает на интервале, на котором значение ее производной меньше нуля"
   ]
  },
  {
   "cell_type": "code",
   "execution_count": 6,
   "id": "f7199dcb",
   "metadata": {},
   "outputs": [
    {
     "data": {
      "text/latex": [
       "$\\displaystyle \\left(- \\sin{\\left(x \\right)} + \\cos{\\left(x \\right)}\\right) \\left(\\frac{\\sin{\\left(x \\right)}}{2} + \\frac{\\cos{\\left(x \\right)}}{2}\\right) \\sin{\\left(x \\right)} + \\left(\\frac{\\sin{\\left(x \\right)}}{2} + \\frac{\\cos{\\left(x \\right)}}{2}\\right)^{2} \\cos{\\left(x \\right)}$"
      ],
      "text/plain": [
       "(-sin(x) + cos(x))*(sin(x)/2 + cos(x)/2)*sin(x) + (sin(x)/2 + cos(x)/2)**2*cos(x)"
      ]
     },
     "execution_count": 6,
     "metadata": {},
     "output_type": "execute_result"
    }
   ],
   "source": [
    "f_diff = diff(func)\n",
    "f_diff"
   ]
  },
  {
   "cell_type": "code",
   "execution_count": 7,
   "id": "8585b0dd",
   "metadata": {},
   "outputs": [
    {
     "name": "stdout",
     "output_type": "stream",
     "text": [
      "корни производной функции: [-2*atan(-3/2 + sqrt(6)*sqrt(5 - sqrt(17))/2 + sqrt(17)/2), -pi/4, 2*atan(-sqrt(6)*sqrt(sqrt(17) + 5)/2 + 3/2 + sqrt(17)/2), 2*atan(-sqrt(17)/2 + sqrt(6)*sqrt(5 - sqrt(17))/2 + 3/2), 3*pi/4, 2*atan(3/2 + sqrt(17)/2 + sqrt(6)*sqrt(sqrt(17) + 5)/2), pi]\n",
      "корни производной функции в числовом значении: -2.08246597090872, -0.785398163397448, -0.273728519283620, 1.05912668268107, 2.35619449019234, 2.86786413430617, 3.14159265358979, \n"
     ]
    }
   ],
   "source": [
    "d_root = solve(f_diff, x)\n",
    "d_root.append(pi) \n",
    "d_root.sort()\n",
    "print(f'корни производной функции: {d_root}')\n",
    "print('корни производной функции в числовом значении', end = ': ')\n",
    "for i in d_root:    \n",
    "    print(i.evalf(), end = ', ')\n",
    "print()"
   ]
  },
  {
   "cell_type": "code",
   "execution_count": 8,
   "id": "b55dd327",
   "metadata": {},
   "outputs": [
    {
     "name": "stdout",
     "output_type": "stream",
     "text": [
      "функция возрастает на отрезке: Interval(-2.082, -0.785)\n",
      "функция убывает на отрезке: Interval(-0.785, -0.274)\n",
      "функция возрастает на отрезке: Interval(-0.274, 1.059)\n",
      "функция убывает на отрезке: Interval(1.059, 2.356)\n",
      "функция возрастает на отрезке: Interval(2.356, 2.868)\n",
      "функция убывает на отрезке: Interval(2.868, 3.142)\n"
     ]
    }
   ],
   "source": [
    "for i in range(len(d_root)-1):\n",
    "    x = (d_root[i] + d_root[i+1])/2\n",
    "    result = (-sin(x) + cos(x))*(sin(x)/2 + cos(x)/2)*sin(x) + (sin(x)/2 + cos(x)/2)**2*cos(x) \n",
    "    if result > 0:\n",
    "        print('функция возрастает на отрезке', end = ': ')\n",
    "        print(Interval(round(d_root[i].evalf(), 3), round(d_root[i+1].evalf(), 3)))\n",
    "    else:\n",
    "        print('функция убывает на отрезке', end = ': ')\n",
    "        print(Interval(round(d_root[i].evalf(), 3), round(d_root[i+1].evalf(), 3)))"
   ]
  },
  {
   "cell_type": "code",
   "execution_count": null,
   "id": "f8cca6bf",
   "metadata": {},
   "outputs": [],
   "source": []
  },
  {
   "cell_type": "code",
   "execution_count": 9,
   "id": "da0d55c7",
   "metadata": {},
   "outputs": [],
   "source": [
    "x = Symbol(\"x\")"
   ]
  },
  {
   "cell_type": "markdown",
   "id": "882e3e7b",
   "metadata": {},
   "source": [
    "# Постороить график функции"
   ]
  },
  {
   "cell_type": "code",
   "execution_count": 10,
   "id": "6814d6f0",
   "metadata": {},
   "outputs": [
    {
     "data": {
      "image/png": "[encoded data removed]",
      "text/plain": [
       "<Figure size 640x480 with 1 Axes>"
      ]
     },
     "metadata": {},
     "output_type": "display_data"
    }
   ],
   "source": [
    "graf = plot(func,f_diff,(x,-2*pi,2*pi), title = \"График функции и ее производной на двух периодах\")"
   ]
  },
  {
   "cell_type": "markdown",
   "id": "6dc5cb70",
   "metadata": {},
   "source": [
    "# Вычислить вершину"
   ]
  },
  {
   "cell_type": "code",
   "execution_count": 11,
   "id": "8f51f872",
   "metadata": {},
   "outputs": [
    {
     "name": "stdout",
     "output_type": "stream",
     "text": [
      "x = -2*atan(-3/2 + sqrt(6)*sqrt(5 - sqrt(17))/2 + sqrt(17)/2), y = -(-sin(2*atan(-3/2 + sqrt(6)*sqrt(5 - sqrt(17))/2 + sqrt(17)/2))/2 + cos(2*atan(-3/2 + sqrt(6)*sqrt(5 - sqrt(17))/2 + sqrt(17)/2))/2)**2*sin(2*atan(-3/2 + sqrt(6)*sqrt(5 - sqrt(17))/2 + sqrt(17)/2))\n",
      "x = -2.082, y = -0.404\n",
      "\n",
      "x = -pi/4, y = 0\n",
      "x = -0.785, y = 0\n",
      "\n",
      "x = 2*atan(-sqrt(6)*sqrt(sqrt(17) + 5)/2 + 3/2 + sqrt(17)/2), y = (sin(2*atan(-sqrt(6)*sqrt(sqrt(17) + 5)/2 + 3/2 + sqrt(17)/2))/2 + cos(2*atan(-sqrt(6)*sqrt(sqrt(17) + 5)/2 + 3/2 + sqrt(17)/2))/2)**2*sin(2*atan(-sqrt(6)*sqrt(sqrt(17) + 5)/2 + 3/2 + sqrt(17)/2))\n",
      "x = -0.274, y = -0.032\n",
      "\n",
      "x = 2*atan(-sqrt(17)/2 + sqrt(6)*sqrt(5 - sqrt(17))/2 + 3/2), y = (cos(2*atan(-sqrt(17)/2 + sqrt(6)*sqrt(5 - sqrt(17))/2 + 3/2))/2 + sin(2*atan(-sqrt(17)/2 + sqrt(6)*sqrt(5 - sqrt(17))/2 + 3/2))/2)**2*sin(2*atan(-sqrt(17)/2 + sqrt(6)*sqrt(5 - sqrt(17))/2 + 3/2))\n",
      "x = 1.059, y = 0.404\n",
      "\n",
      "x = 3*pi/4, y = 0\n",
      "x = 2.356, y = 0\n",
      "\n",
      "x = 2*atan(3/2 + sqrt(17)/2 + sqrt(6)*sqrt(sqrt(17) + 5)/2), y = (cos(2*atan(3/2 + sqrt(17)/2 + sqrt(6)*sqrt(sqrt(17) + 5)/2))/2 + sin(2*atan(3/2 + sqrt(17)/2 + sqrt(6)*sqrt(sqrt(17) + 5)/2))/2)**2*sin(2*atan(3/2 + sqrt(17)/2 + sqrt(6)*sqrt(sqrt(17) + 5)/2))\n",
      "x = 2.868, y = 0.032\n",
      "\n",
      "x = pi, y = 0\n",
      "x = 3.142, y = 0\n",
      "\n"
     ]
    }
   ],
   "source": [
    "for x in d_root:\n",
    "    y = (sin(x)/2 + cos(x)/2) ** 2 * sin(x)\n",
    "    print(f'x = {x}, y = {y}')\n",
    "    print(f'x = {round(x.evalf(),3)}, y = {round(y.evalf(),3)}')\n",
    "    print()"
   ]
  },
  {
   "cell_type": "code",
   "execution_count": null,
   "id": "fb578725",
   "metadata": {},
   "outputs": [],
   "source": []
  },
  {
   "cell_type": "markdown",
   "id": "bccd76e3",
   "metadata": {},
   "source": [
    "# Определить промежутки, на котором f > 0"
   ]
  },
  {
   "cell_type": "code",
   "execution_count": 12,
   "id": "b4168d3c",
   "metadata": {},
   "outputs": [
    {
     "name": "stdout",
     "output_type": "stream",
     "text": [
      "                    3⋅π\n",
      "x > 0 ∧ x < π ∧ x ≠ ───\n",
      "                     4 \n"
     ]
    }
   ],
   "source": [
    "pprint(solve(func > 0, x), use_unicode=True)"
   ]
  },
  {
   "cell_type": "markdown",
   "id": "3c23e9f6",
   "metadata": {},
   "source": [
    "# Определить промежутки, на котором f < 0"
   ]
  },
  {
   "cell_type": "code",
   "execution_count": 13,
   "id": "5eaa4347",
   "metadata": {},
   "outputs": [
    {
     "name": "stdout",
     "output_type": "stream",
     "text": [
      "                      7⋅π\n",
      "x > π ∧ x < 2⋅π ∧ x ≠ ───\n",
      "                       4 \n"
     ]
    }
   ],
   "source": [
    "pprint(solve(func < 0, x), use_unicode=True)"
   ]
  },
  {
   "cell_type": "markdown",
   "id": "9fb7a37f",
   "metadata": {},
   "source": []
  }
 ],
 "metadata": {
  "kernelspec": {
   "display_name": "Python 3",
   "language": "python",
   "name": "python3"
  },
  "language_info": {
   "codemirror_mode": {
    "name": "ipython",
    "version": 3
   },
   "file_extension": ".py",
   "mimetype": "text/x-python",
   "name": "python",
   "nbconvert_exporter": "python",
   "pygments_lexer": "ipython3",
   "version": "3.10.6 (tags/v3.10.6:9c7b4bd, Aug  1 2022, 21:53:49) [MSC v.1932 64 bit (AMD64)]"
  },
  "vscode": {
   "interpreter": {
    "hash": "4d415a40e43789509cfdebb3c21f844803aab598a6bbcda93a9d73c9240d13e9"
   }
  }
 },
 "nbformat": 4,
 "nbformat_minor": 5
}
